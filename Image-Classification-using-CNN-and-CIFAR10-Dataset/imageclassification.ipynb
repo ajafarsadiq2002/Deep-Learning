{
  "nbformat": 4,
  "nbformat_minor": 0,
  "metadata": {
    "colab": {
      "provenance": [],
      "authorship_tag": "ABX9TyNp0SVrmoWUxWxpj9dk6h+c",
      "include_colab_link": true
    },
    "kernelspec": {
      "name": "python3",
      "display_name": "Python 3"
    },
    "language_info": {
      "name": "python"
    }
  },
  "cells": [
    {
      "cell_type": "markdown",
      "metadata": {
        "id": "view-in-github",
        "colab_type": "text"
      },
      "source": [
        "<a href=\"https://colab.research.google.com/github/ajafarsadiq2002/image-classification-using-CNN-and-CIFAR10-Dataset/blob/main/imageclassification.ipynb\" target=\"_parent\"><img src=\"https://colab.research.google.com/assets/colab-badge.svg\" alt=\"Open In Colab\"/></a>"
      ]
    },
    {
      "cell_type": "markdown",
      "source": [
        "IMPORTING LIBRARIES"
      ],
      "metadata": {
        "id": "IPz6CL2_ld9n"
      }
    },
    {
      "cell_type": "code",
      "execution_count": 2,
      "metadata": {
        "id": "Ij8t6youEFR_"
      },
      "outputs": [],
      "source": [
        "import tensorflow as tf\n",
        "from tensorflow import keras\n",
        "from keras import Sequential\n",
        "from keras.layers import Dense,Conv2D,MaxPooling2D,Flatten,BatchNormalization,Dropout\n",
        "from tensorflow.keras import datasets, layers, models\n",
        "import matplotlib.pyplot as plt\n",
        "import numpy as np\n"
      ]
    },
    {
      "cell_type": "markdown",
      "source": [
        "LOADING THE DATASETS"
      ],
      "metadata": {
        "id": "ljGdWOW1xy7o"
      }
    },
    {
      "cell_type": "code",
      "source": [
        "(X_train, y_train), (X_test,y_test) = datasets.cifar10.load_data()\n",
        "X_train.shape"
      ],
      "metadata": {
        "id": "eGo4HgG9eCc5",
        "colab": {
          "base_uri": "https://localhost:8080/"
        },
        "outputId": "1977d71a-cabb-49cf-a27c-89b24c39de4d"
      },
      "execution_count": 3,
      "outputs": [
        {
          "output_type": "stream",
          "name": "stdout",
          "text": [
            "Downloading data from https://www.cs.toronto.edu/~kriz/cifar-10-python.tar.gz\n",
            "170498071/170498071 [==============================] - 6s 0us/step\n"
          ]
        },
        {
          "output_type": "execute_result",
          "data": {
            "text/plain": [
              "(50000, 32, 32, 3)"
            ]
          },
          "metadata": {},
          "execution_count": 3
        }
      ]
    },
    {
      "cell_type": "code",
      "source": [
        "X_test.shape\n"
      ],
      "metadata": {
        "colab": {
          "base_uri": "https://localhost:8080/"
        },
        "id": "u_VzpREJlZZ2",
        "outputId": "fdcbad21-3fad-4757-c0a6-2df21f88957e"
      },
      "execution_count": 4,
      "outputs": [
        {
          "output_type": "execute_result",
          "data": {
            "text/plain": [
              "(10000, 32, 32, 3)"
            ]
          },
          "metadata": {},
          "execution_count": 4
        }
      ]
    },
    {
      "cell_type": "markdown",
      "source": [
        "Here we see there are 50000 training images and 10000 test images"
      ],
      "metadata": {
        "id": "sKGF0QPhx7MR"
      }
    },
    {
      "cell_type": "code",
      "source": [
        "y_train.shape"
      ],
      "metadata": {
        "colab": {
          "base_uri": "https://localhost:8080/"
        },
        "id": "vmdyXkLhx_Eg",
        "outputId": "007e7df1-2fc9-463b-e9fe-d24b7289fa8a"
      },
      "execution_count": 5,
      "outputs": [
        {
          "output_type": "execute_result",
          "data": {
            "text/plain": [
              "(50000, 1)"
            ]
          },
          "metadata": {},
          "execution_count": 5
        }
      ]
    },
    {
      "cell_type": "code",
      "source": [
        "\n",
        "y_train[:5]"
      ],
      "metadata": {
        "colab": {
          "base_uri": "https://localhost:8080/"
        },
        "id": "xpVtYrInyI7C",
        "outputId": "b5e7871d-a04e-4b2c-eef7-8c71a34cc7b6"
      },
      "execution_count": 6,
      "outputs": [
        {
          "output_type": "execute_result",
          "data": {
            "text/plain": [
              "array([[6],\n",
              "       [9],\n",
              "       [9],\n",
              "       [4],\n",
              "       [1]], dtype=uint8)"
            ]
          },
          "metadata": {},
          "execution_count": 6
        }
      ]
    },
    {
      "cell_type": "code",
      "source": [
        "y_train = y_train.reshape(-1,)\n",
        "y_train[:5]"
      ],
      "metadata": {
        "colab": {
          "base_uri": "https://localhost:8080/"
        },
        "id": "sySzh8KfyPp6",
        "outputId": "b3942927-9467-435d-c49f-7c2a152f5048"
      },
      "execution_count": 7,
      "outputs": [
        {
          "output_type": "execute_result",
          "data": {
            "text/plain": [
              "array([6, 9, 9, 4, 1], dtype=uint8)"
            ]
          },
          "metadata": {},
          "execution_count": 7
        }
      ]
    },
    {
      "cell_type": "code",
      "source": [
        "y_test = y_test.reshape(-1,)\n"
      ],
      "metadata": {
        "id": "ardW-xodySX4"
      },
      "execution_count": 8,
      "outputs": []
    },
    {
      "cell_type": "code",
      "source": [
        "classes = [\"airplane\",\"automobile\",\"bird\",\"cat\",\"deer\",\"dog\",\"frog\",\"horse\",\"ship\",\"truck\"]\n"
      ],
      "metadata": {
        "id": "oPiJYQM2yVOC"
      },
      "execution_count": 9,
      "outputs": []
    },
    {
      "cell_type": "code",
      "source": [
        "def plot_sample(X, y, index):\n",
        "    plt.figure(figsize = (15,2))\n",
        "    plt.imshow(X[index])\n",
        "    plt.xlabel(classes[y[index]])"
      ],
      "metadata": {
        "id": "VTtq0XzbyYEr"
      },
      "execution_count": 10,
      "outputs": []
    },
    {
      "cell_type": "code",
      "source": [
        "plot_sample(X_train, y_train, 0)\n"
      ],
      "metadata": {
        "colab": {
          "base_uri": "https://localhost:8080/",
          "height": 237
        },
        "id": "J-VY_KcIycQU",
        "outputId": "3e3b1be0-e4ff-4c26-dab9-5156d4d82310"
      },
      "execution_count": 11,
      "outputs": [
        {
          "output_type": "display_data",
          "data": {
            "text/plain": [
              "<Figure size 1500x200 with 1 Axes>"
            ],
            "image/png": "[encoded data removed]"
          },
          "metadata": {}
        }
      ]
    },
    {
      "cell_type": "code",
      "source": [
        "plot_sample(X_train, y_train, 2)"
      ],
      "metadata": {
        "colab": {
          "base_uri": "https://localhost:8080/",
          "height": 237
        },
        "id": "4Nj1F2gjyeTU",
        "outputId": "51d86537-4bba-4ce6-d29a-014a6b3f1ca4"
      },
      "execution_count": 12,
      "outputs": [
        {
          "output_type": "display_data",
          "data": {
            "text/plain": [
              "<Figure size 1500x200 with 1 Axes>"
            ],
            "image/png": "[encoded data removed]"
          },
          "metadata": {}
        }
      ]
    },
    {
      "cell_type": "markdown",
      "source": [
        "Normalizing the training data"
      ],
      "metadata": {
        "id": "nRG_9P4OyoHB"
      }
    },
    {
      "cell_type": "code",
      "source": [
        "X_train = X_train / 255.0\n",
        "X_test = X_test / 255.0"
      ],
      "metadata": {
        "id": "CQbx9CROyptW"
      },
      "execution_count": 13,
      "outputs": []
    },
    {
      "cell_type": "markdown",
      "source": [
        "Build simple artificial neural network for image classification\n"
      ],
      "metadata": {
        "id": "YbrOXYTuywQz"
      }
    },
    {
      "cell_type": "code",
      "source": [
        "ann=models.Sequential([\n",
        "        layers.Flatten(input_shape=(32,32,3)),\n",
        "        layers.Dense(3000, activation='relu'),\n",
        "        layers.Dense(1000, activation='relu'),\n",
        "        layers.Dense(10, activation='softmax')\n",
        "    ])"
      ],
      "metadata": {
        "id": "TEIOD_10yxSB"
      },
      "execution_count": 15,
      "outputs": []
    },
    {
      "cell_type": "code",
      "source": [
        "ann.compile(optimizer='SGD',loss='sparse_categorical_crossentropy',metrics=['accuracy'])"
      ],
      "metadata": {
        "id": "KhUDIUo2zbIy"
      },
      "execution_count": 16,
      "outputs": []
    },
    {
      "cell_type": "code",
      "source": [
        "ann.fit(X_train, y_train, epochs=10)"
      ],
      "metadata": {
        "colab": {
          "base_uri": "https://localhost:8080/"
        },
        "id": "e6hMy3M-zg1c",
        "outputId": "c708df47-8f5f-4658-e2b6-b408129208ad"
      },
      "execution_count": 17,
      "outputs": [
        {
          "output_type": "stream",
          "name": "stdout",
          "text": [
            "Epoch 1/10\n",
            "1563/1563 [==============================] - 171s 109ms/step - loss: 1.8081 - accuracy: 0.3543\n",
            "Epoch 2/10\n",
            "1563/1563 [==============================] - 164s 105ms/step - loss: 1.6195 - accuracy: 0.4296\n",
            "Epoch 3/10\n",
            "1563/1563 [==============================] - 147s 94ms/step - loss: 1.5382 - accuracy: 0.4574\n",
            "Epoch 4/10\n",
            "1563/1563 [==============================] - 154s 98ms/step - loss: 1.4778 - accuracy: 0.4803\n",
            "Epoch 5/10\n",
            "1563/1563 [==============================] - 144s 92ms/step - loss: 1.4286 - accuracy: 0.4975\n",
            "Epoch 6/10\n",
            "1563/1563 [==============================] - 144s 92ms/step - loss: 1.3866 - accuracy: 0.5138\n",
            "Epoch 7/10\n",
            "1563/1563 [==============================] - 143s 91ms/step - loss: 1.3480 - accuracy: 0.5272\n",
            "Epoch 8/10\n",
            "1563/1563 [==============================] - 148s 95ms/step - loss: 1.3149 - accuracy: 0.5384\n",
            "Epoch 9/10\n",
            "1563/1563 [==============================] - 153s 98ms/step - loss: 1.2815 - accuracy: 0.5505\n",
            "Epoch 10/10\n",
            "1563/1563 [==============================] - 145s 93ms/step - loss: 1.2513 - accuracy: 0.5620\n"
          ]
        },
        {
          "output_type": "execute_result",
          "data": {
            "text/plain": [
              "<keras.src.callbacks.History at 0x7dad81411360>"
            ]
          },
          "metadata": {},
          "execution_count": 17
        }
      ]
    },
    {
      "cell_type": "markdown",
      "source": [
        "Now let us build a convolutional neural network to train our images"
      ],
      "metadata": {
        "id": "LPLCSdlwz8KO"
      }
    },
    {
      "cell_type": "code",
      "source": [
        "cnn = models.Sequential([\n",
        "    layers.Conv2D(filters=32, kernel_size=(3, 3), activation='relu', input_shape=(32, 32, 3)),\n",
        "    layers.MaxPooling2D((2, 2)),\n",
        "\n",
        "    layers.Conv2D(filters=64, kernel_size=(3, 3), activation='relu'),\n",
        "    layers.MaxPooling2D((2, 2)),\n",
        "\n",
        "    layers.Flatten(),\n",
        "    layers.Dense(64, activation='relu'),\n",
        "    layers.Dense(10, activation='softmax')\n",
        "])"
      ],
      "metadata": {
        "id": "ZyMXcKHZz9XE"
      },
      "execution_count": 18,
      "outputs": []
    },
    {
      "cell_type": "code",
      "source": [
        "cnn.compile(optimizer='adam',loss='sparse_categorical_crossentropy',metrics=['accuracy'])"
      ],
      "metadata": {
        "id": "0BgA33sp0JCZ"
      },
      "execution_count": 19,
      "outputs": []
    },
    {
      "cell_type": "code",
      "source": [
        "cnn.fit(X_train,y_train,epochs=5)"
      ],
      "metadata": {
        "colab": {
          "base_uri": "https://localhost:8080/"
        },
        "id": "479MiOSZ0Orw",
        "outputId": "17d396c6-31a1-4fd7-ce8c-66747805b8ef"
      },
      "execution_count": 20,
      "outputs": [
        {
          "output_type": "stream",
          "name": "stdout",
          "text": [
            "Epoch 1/5\n",
            "1563/1563 [==============================] - 76s 46ms/step - loss: 1.4250 - accuracy: 0.4879\n",
            "Epoch 2/5\n",
            "1563/1563 [==============================] - 66s 42ms/step - loss: 1.0840 - accuracy: 0.6208\n",
            "Epoch 3/5\n",
            "1563/1563 [==============================] - 64s 41ms/step - loss: 0.9580 - accuracy: 0.6681\n",
            "Epoch 4/5\n",
            "1563/1563 [==============================] - 64s 41ms/step - loss: 0.8679 - accuracy: 0.6969\n",
            "Epoch 5/5\n",
            "1563/1563 [==============================] - 62s 40ms/step - loss: 0.7942 - accuracy: 0.7229\n"
          ]
        },
        {
          "output_type": "execute_result",
          "data": {
            "text/plain": [
              "<keras.src.callbacks.History at 0x7dad290ecd60>"
            ]
          },
          "metadata": {},
          "execution_count": 20
        }
      ]
    },
    {
      "cell_type": "code",
      "source": [
        "cnn.evaluate(X_test,y_test)"
      ],
      "metadata": {
        "colab": {
          "base_uri": "https://localhost:8080/"
        },
        "id": "z8gxh4fV0WSC",
        "outputId": "99496c68-6a37-4ce6-c784-a942c4a0cc99"
      },
      "execution_count": 21,
      "outputs": [
        {
          "output_type": "stream",
          "name": "stdout",
          "text": [
            "313/313 [==============================] - 6s 17ms/step - loss: 0.9197 - accuracy: 0.6860\n"
          ]
        },
        {
          "output_type": "execute_result",
          "data": {
            "text/plain": [
              "[0.9197167754173279, 0.6859999895095825]"
            ]
          },
          "metadata": {},
          "execution_count": 21
        }
      ]
    },
    {
      "cell_type": "code",
      "source": [
        "y_pred = cnn.predict(X_test)\n",
        "y_pred[:5]"
      ],
      "metadata": {
        "colab": {
          "base_uri": "https://localhost:8080/"
        },
        "id": "avad-M870Z7r",
        "outputId": "c1d06976-6d74-4365-f9c9-22b8e28e92b7"
      },
      "execution_count": 22,
      "outputs": [
        {
          "output_type": "stream",
          "name": "stdout",
          "text": [
            "313/313 [==============================] - 5s 15ms/step\n"
          ]
        },
        {
          "output_type": "execute_result",
          "data": {
            "text/plain": [
              "array([[5.04601607e-03, 2.33309041e-03, 6.28752401e-03, 2.85628170e-01,\n",
              "        2.64180737e-04, 2.52197441e-02, 1.32698892e-02, 2.52626807e-04,\n",
              "        6.60838425e-01, 8.60264408e-04],\n",
              "       [3.81273008e-03, 7.34229386e-02, 1.47773483e-06, 1.04090525e-07,\n",
              "        3.56729788e-06, 1.40650931e-08, 2.54146784e-08, 4.12573486e-09,\n",
              "        9.20815408e-01, 1.94361433e-03],\n",
              "       [7.77849779e-02, 2.30659038e-01, 1.55361637e-03, 1.72689336e-03,\n",
              "        3.63604026e-03, 6.48212153e-04, 6.61099795e-04, 1.06575433e-03,\n",
              "        6.16462290e-01, 6.58021420e-02],\n",
              "       [9.09790933e-01, 8.55619460e-03, 1.83414891e-02, 2.87417904e-04,\n",
              "        3.69016384e-03, 2.57845841e-05, 3.49224109e-04, 1.67332219e-05,\n",
              "        5.82941100e-02, 6.48049172e-04],\n",
              "       [1.42077834e-05, 4.88236801e-05, 1.73960086e-02, 8.31486434e-02,\n",
              "        6.21345699e-01, 2.88385190e-02, 2.48080641e-01, 4.45192534e-04,\n",
              "        6.77513657e-04, 4.59269859e-06]], dtype=float32)"
            ]
          },
          "metadata": {},
          "execution_count": 22
        }
      ]
    },
    {
      "cell_type": "code",
      "source": [
        "y_classes = [np.argmax(element) for element in y_pred]\n",
        "y_classes[:5]"
      ],
      "metadata": {
        "colab": {
          "base_uri": "https://localhost:8080/"
        },
        "id": "Hs-X6nz7O9cm",
        "outputId": "794d301c-46ee-43cc-c63a-255bdd869dbe"
      },
      "execution_count": 28,
      "outputs": [
        {
          "output_type": "execute_result",
          "data": {
            "text/plain": [
              "[8, 8, 8, 0, 4]"
            ]
          },
          "metadata": {},
          "execution_count": 28
        }
      ]
    },
    {
      "cell_type": "code",
      "source": [
        "y_test[:5]"
      ],
      "metadata": {
        "colab": {
          "base_uri": "https://localhost:8080/"
        },
        "id": "CSCB_4YTQGra",
        "outputId": "204a6025-da2c-4cf0-ab4f-b13555cc89d3"
      },
      "execution_count": 29,
      "outputs": [
        {
          "output_type": "execute_result",
          "data": {
            "text/plain": [
              "array([3, 8, 8, 0, 6], dtype=uint8)"
            ]
          },
          "metadata": {},
          "execution_count": 29
        }
      ]
    },
    {
      "cell_type": "code",
      "source": [
        "plot_sample(X_test, y_test,3)"
      ],
      "metadata": {
        "colab": {
          "base_uri": "https://localhost:8080/",
          "height": 237
        },
        "id": "nHT5_aN0QKZm",
        "outputId": "a705d58c-359c-4ebf-9de7-31d2147a940f"
      },
      "execution_count": 30,
      "outputs": [
        {
          "output_type": "display_data",
          "data": {
            "text/plain": [
              "<Figure size 1500x200 with 1 Axes>"
            ],
            "image/png": "[encoded data removed]"
          },
          "metadata": {}
        }
      ]
    },
    {
      "cell_type": "code",
      "source": [
        "classes[y_classes[3]]"
      ],
      "metadata": {
        "colab": {
          "base_uri": "https://localhost:8080/",
          "height": 35
        },
        "id": "a0N2xJ8HQNMy",
        "outputId": "7140c207-1ba7-4fa1-8244-e1516d98159e"
      },
      "execution_count": 31,
      "outputs": [
        {
          "output_type": "execute_result",
          "data": {
            "text/plain": [
              "'airplane'"
            ],
            "application/vnd.google.colaboratory.intrinsic+json": {
              "type": "string"
            }
          },
          "metadata": {},
          "execution_count": 31
        }
      ]
    },
    {
      "cell_type": "code",
      "source": [
        "classes[y_classes[3]]"
      ],
      "metadata": {
        "colab": {
          "base_uri": "https://localhost:8080/",
          "height": 35
        },
        "id": "fCsLtXMIQQIP",
        "outputId": "df566436-010e-4291-948b-e3388c69ac45"
      },
      "execution_count": 32,
      "outputs": [
        {
          "output_type": "execute_result",
          "data": {
            "text/plain": [
              "'airplane'"
            ],
            "application/vnd.google.colaboratory.intrinsic+json": {
              "type": "string"
            }
          },
          "metadata": {},
          "execution_count": 32
        }
      ]
    }
  ]
}